{
 "cells": [
  {
   "cell_type": "code",
   "execution_count": 2,
   "id": "63909573",
   "metadata": {},
   "outputs": [],
   "source": [
    "from datetime import time, timedelta, datetime\n",
    "import time\n",
    "\n",
    "\n",
    "# Функция для очистки строк от лишних символов.\n",
    "def clear(my_str):\n",
    "    # Разделение исходной строки по разделителю.\n",
    "    my_str = my_str.split(\";\")\n",
    "    # После разделения получаем значения из списка по индексам.\n",
    "    my_str_id = my_str[0].strip().strip(\"''\").strip('\"\"')\n",
    "    my_str_time = my_str[1]\n",
    "    my_str_steps = [i.strip().strip('\"\"') for i in my_str[2].split(\",\") if i.strip().strip('\"\"').isdigit()]\n",
    "    # Возврат ид, времени, шагов.\n",
    "    return my_str_id, my_str_time, my_str_steps\n",
    "\n",
    "\n",
    "start_time = time.time()\n",
    "\n",
    "# Открываем (создаем) файл для записи новых данных.\n",
    "with open(\"steps_ver_3_clear.csv\", \"w\", encoding=\"utf-8\") as new_file:\n",
    "    # Открываем файл для чтения исходных данных.\n",
    "    with open(\"steps_ver_3.csv\", encoding=\"utf-8\") as file:\n",
    "        # Итерация по строкам.\n",
    "        for now in file:\n",
    "            # Запись заголовков.\n",
    "            if now.split(\";\")[0] == \"id\":\n",
    "                new_file.write(now.replace(\"route\", \"event\"))\n",
    "            # Запись значений.\n",
    "            else:\n",
    "                now_id, now_time, now_steps = clear(now)\n",
    "                # Строки с пустыми ид пропускаем.\n",
    "                if now_id == \"\":\n",
    "                    continue\n",
    "                # Строки с действующими ид берем в работу.\n",
    "                else:\n",
    "                    # Коэффициент для разделения шагов для каждого из взятых ид.\n",
    "                    k = 0\n",
    "                    for i in now_steps:\n",
    "                        if k == 0:\n",
    "                            # Запись первого шага для ид.\n",
    "                            new_file.write(f\"{now_id},{now_time},{now_steps[k]}\\n\")\n",
    "                            my_date = tuple(int(i) for i in (now_time.split()[0]).split(\"-\"))\n",
    "                            my_time = tuple(int(i) for i in (now_time.split()[1]).split(\":\"))\n",
    "                            # Запись даты и времени.\n",
    "                            my_date_time = datetime(my_date[0], my_date[1],\n",
    "                                                    my_date[2], my_time[0], my_time[1], my_time[2])\n",
    "                        else:\n",
    "                            # Ко времени следующего шага прибавляем 1 секунду.\n",
    "                            my_date_time = my_date_time + timedelta(seconds=1)\n",
    "                            # Записываем новый шаг для этого же ид.\n",
    "                            new_file.write(f\"{now_id},{my_date_time},{now_steps[k]}\\n\")\n",
    "                            # print(my_date_time)\n",
    "                        k += 1\n",
    "\n",
    "print(f\"Время обработки файла составило: {round(time.time() - start_time, 2)} сек.\")\n"
   ]
  },
  {
   "cell_type": "code",
   "execution_count": null,
   "id": "e671cfdd",
   "metadata": {},
   "outputs": [],
   "source": []
  }
 ],
 "metadata": {
  "kernelspec": {
   "display_name": "Python 3 (ipykernel)",
   "language": "python",
   "name": "python3"
  },
  "language_info": {
   "codemirror_mode": {
    "name": "ipython",
    "version": 3
   },
   "file_extension": ".py",
   "mimetype": "text/x-python",
   "name": "python",
   "nbconvert_exporter": "python",
   "pygments_lexer": "ipython3",
   "version": "3.8.12"
  }
 },
 "nbformat": 4,
 "nbformat_minor": 5
}
