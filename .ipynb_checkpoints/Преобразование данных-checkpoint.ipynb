{
 "cells": [
  {
   "cell_type": "code",
   "execution_count": 112,
   "id": "63909573",
   "metadata": {},
   "outputs": [],
   "source": [
    "from datetime import time, timedelta, datetime\n",
    "\n",
    "\n",
    "def clear(my_str):\n",
    "    my_str = my_str.split(\",\")\n",
    "    my_str_id = my_str[0].strip().strip(\"''\").strip('\"\"')\n",
    "    my_str_time = my_str[1]\n",
    "    my_str_steps = [i.strip().strip('\"\"') for i in my_str[2:] if i.strip().strip('\"\"').isdigit()]\n",
    "    return my_str_id, my_str_time, my_str_steps\n",
    "\n",
    "\n",
    "with open(\"Выгрузка цепочек 2.csv\", \"w\", encoding=\"utf-8\") as new_file:\n",
    "    with open(\"Выгрузка цепочек.csv\", encoding=\"utf-8\") as file:\n",
    "        for now in file:\n",
    "            if now.split(\",\")[0] == \"id\":\n",
    "                new_file.write(now.replace(\"route\", \"event\"))\n",
    "            else:\n",
    "                now_id, now_time, now_steps = clear(now)\n",
    "                if now_id == \"\":\n",
    "                    continue\n",
    "                else:\n",
    "                    k = 0\n",
    "                    for i in now_steps:\n",
    "                        if k == 0:\n",
    "                            new_file.write(f\"{now_id},{now_time},{now_steps[k]}\\n\")\n",
    "                            my_date = tuple(int(i) for i in (now_time.split()[0]).split(\"-\"))\n",
    "                            my_time = tuple(int(i) for i in (now_time.split()[1]).split(\":\"))\n",
    "                            my_date_time = datetime(my_date[0], my_date[1], my_date[2], my_time[0], my_time[1], my_time[2])\n",
    "                        else:\n",
    "                            my_date_time = my_date_time + timedelta(seconds = 1)\n",
    "                            new_file.write(f\"{now_id},{my_date_time},{now_steps[k]}\\n\")\n",
    "                            # print(my_date_time)\n",
    "                        k += 1\n"
   ]
  },
  {
   "cell_type": "code",
   "execution_count": null,
   "id": "e671cfdd",
   "metadata": {},
   "outputs": [],
   "source": []
  }
 ],
 "metadata": {
  "kernelspec": {
   "display_name": "Python 3 (ipykernel)",
   "language": "python",
   "name": "python3"
  },
  "language_info": {
   "codemirror_mode": {
    "name": "ipython",
    "version": 3
   },
   "file_extension": ".py",
   "mimetype": "text/x-python",
   "name": "python",
   "nbconvert_exporter": "python",
   "pygments_lexer": "ipython3",
   "version": "3.9.7"
  }
 },
 "nbformat": 4,
 "nbformat_minor": 5
}
