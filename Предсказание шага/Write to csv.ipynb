{
 "cells": [
  {
   "cell_type": "code",
   "execution_count": 43,
   "id": "b4fcc7b8",
   "metadata": {},
   "outputs": [
    {
     "name": "stdout",
     "output_type": "stream",
     "text": [
      "Время обработки 411386 строк составило: 2.87 сек.\n"
     ]
    }
   ],
   "source": [
    "import csv\n",
    "import time\n",
    "\n",
    "start_time = time.time()\n",
    "\n",
    "k = 0\n",
    "with open(\"Counted_data_to_csv_3.csv\", \"w\") as csv_file:\n",
    "    csv_file.write(\"last_steps,chance\\n\")\n",
    "    with open(\"Total_counted_data.txt\", encoding=\"utf-8\") as my_file:\n",
    "        for now in my_file:\n",
    "            now = now.split(\":\")\n",
    "            first = [str(i.strip()) for i in now[0].strip().strip(\"()\").split(\",\")]\n",
    "            first = \",\".join(first)\n",
    "            # first = \",\".join(now[0].strip().strip(\"()\").split(\",\"))\n",
    "            second = now[1].strip()\n",
    "            csv_file.write(f\"[{first}];{second}\\n\")\n",
    "            # print(f\"[{first}],{second},{type(first)}\\n\")\n",
    "            k += 1\n",
    "            #if k == 20:\n",
    "            #    break\n",
    "\n",
    "print(f\"Время обработки {k} строк составило: {round(time.time() - start_time, 2)} сек.\")\n"
   ]
  },
  {
   "cell_type": "code",
   "execution_count": null,
   "id": "8265d69f",
   "metadata": {},
   "outputs": [],
   "source": []
  }
 ],
 "metadata": {
  "kernelspec": {
   "display_name": "Python 3 (ipykernel)",
   "language": "python",
   "name": "python3"
  },
  "language_info": {
   "codemirror_mode": {
    "name": "ipython",
    "version": 3
   },
   "file_extension": ".py",
   "mimetype": "text/x-python",
   "name": "python",
   "nbconvert_exporter": "python",
   "pygments_lexer": "ipython3",
   "version": "3.9.7"
  }
 },
 "nbformat": 4,
 "nbformat_minor": 5
}
