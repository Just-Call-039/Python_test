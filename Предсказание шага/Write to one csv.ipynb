{
 "cells": [
  {
   "cell_type": "code",
   "execution_count": 28,
   "id": "a9bbfce0",
   "metadata": {},
   "outputs": [
    {
     "name": "stdout",
     "output_type": "stream",
     "text": [
      "Время обработки 411386 строк составило: 6.01 сек.\n"
     ]
    }
   ],
   "source": [
    "import time\n",
    "\n",
    "\n",
    "# Функция для очистки строки от лишних символов.\n",
    "def clear(now):\n",
    "    now = now.split(\":\")\n",
    "    # Цепочка шагов.\n",
    "    steps = [f\"'{i.strip()}'\" for i in now[0].strip().strip(\"()\").split(\",\")]\n",
    "    steps = \",\".join(steps)\n",
    "    # Количество положительных и отрицательных завершений.\n",
    "    # На месте индекса 0 - количество положительных завершений.\n",
    "    # На месте индекса 1 - количество отрицательных завершений.\n",
    "    # [+, -]: [good, bad].\n",
    "    chance = now[1].strip().strip(\"[]\").split(\",\")\n",
    "    good = int(chance[0].strip())\n",
    "    bad = int(chance[1].strip())\n",
    "    return steps, good, bad\n",
    "\n",
    "\n",
    "# Расчет коэффициента. Вероятность наступления плохого шага.\n",
    "def my_chance(good, bad):\n",
    "    # chance = bad / (good + bad)\n",
    "    chance = round(bad / (good + bad), 2)\n",
    "    return chance\n",
    "    \n",
    "\n",
    "start_time = time.time()\n",
    "k = 0\n",
    "\n",
    "# Создаю один файл для объединения данных последних 2 и 3 шагов.\n",
    "with open(\"Total_data.csv\", \"a\") as total:\n",
    "    total.write(\"steps;positive;negative;chance\\n\")\n",
    "    with open(\"data_1.txt\") as file:\n",
    "        for now in file:\n",
    "            steps, good, bad = clear(now)\n",
    "            chance = my_chance(good, bad)\n",
    "            # print(f\"[{steps}];{good};{bad};{chance};\")\n",
    "            total.write(f\"[{steps}];{good};{bad};{chance}\\n\")\n",
    "            k += 1\n",
    "    with open(\"data_2.txt\") as file:\n",
    "        for now in file:\n",
    "            steps, good, bad = clear(now)\n",
    "            chance = my_chance(good, bad)\n",
    "            # print(f\"[{steps}];{good};{bad};{chance};\")\n",
    "            total.write(f\"[{steps}];{good};{bad};{chance}\\n\")\n",
    "            k += 1\n",
    "\n",
    "print(f\"Время обработки {k} строк составило: {round(time.time() - start_time, 2)} сек.\")\n"
   ]
  },
  {
   "cell_type": "code",
   "execution_count": null,
   "id": "e49d8942",
   "metadata": {},
   "outputs": [],
   "source": []
  }
 ],
 "metadata": {
  "kernelspec": {
   "display_name": "Python 3 (ipykernel)",
   "language": "python",
   "name": "python3"
  },
  "language_info": {
   "codemirror_mode": {
    "name": "ipython",
    "version": 3
   },
   "file_extension": ".py",
   "mimetype": "text/x-python",
   "name": "python",
   "nbconvert_exporter": "python",
   "pygments_lexer": "ipython3",
   "version": "3.9.7"
  }
 },
 "nbformat": 4,
 "nbformat_minor": 5
}
