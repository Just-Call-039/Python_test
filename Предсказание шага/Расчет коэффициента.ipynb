{
 "cells": [
  {
   "cell_type": "code",
   "execution_count": 66,
   "id": "9e7de083",
   "metadata": {},
   "outputs": [
    {
     "name": "stdout",
     "output_type": "stream",
     "text": [
      "Введите название (например: counted_data_1.txt и т.д.) файла и расширение: counted_data_2.txt\n",
      "Время обработки 19236 строк составило: 14.54 сек.\n"
     ]
    }
   ],
   "source": [
    "import time\n",
    "\n",
    "start_time = time.time()\n",
    "\n",
    "k = 0\n",
    "my_dict = {}\n",
    "my_file = input(\"Введите название (например: counted_data_1.txt и т.д.) файла и расширение: \")\n",
    "\n",
    "with open(\"data_2.txt\") as data:\n",
    "    for now in data:\n",
    "        my = now.split(\":\")\n",
    "        my_val = my[1].strip()\n",
    "        my_val = [int(i) for i in my_val.strip(\"[]\").split(\",\")]\n",
    "        my_key = tuple(i.strip() for i in my[0].strip(\"()\").split(\",\"))\n",
    "        # print(my_key, len(my_key))\n",
    "        # print(my_val, len(my_val))\n",
    "        # [+, -]: [good, bad]\n",
    "        # chance = bad / (good + bad)\n",
    "        # Расчет коэффициента.\n",
    "        my_dict[my_key] = round(my_val[1] / (my_val[0] + my_val[1]), 2)\n",
    "        k += 1\n",
    "        # if k == 100000:\n",
    "        #     break\n",
    "\n",
    "with open(my_file, \"w\") as data:\n",
    "    for now in my_dict:\n",
    "        data.write(f\"{now}: {my_dict[now]}\" + \"\\n\")\n",
    "\n",
    "print(f\"Время обработки {k} строк составило: {round(time.time() - start_time, 2)} сек.\")\n"
   ]
  },
  {
   "cell_type": "code",
   "execution_count": null,
   "id": "95425ccc",
   "metadata": {},
   "outputs": [],
   "source": [
    "Введите название (например: counted_data_1.txt и т.д.) файла и расширение: counted_data_1.txt\n",
    "Время обработки 392150 строк составило: 11.39 сек.\n",
    "    \n",
    "Введите название (например: counted_data_1.txt и т.д.) файла и расширение: counted_data_2.txt\n",
    "Время обработки 19236 строк составило: 14.54 сек."
   ]
  }
 ],
 "metadata": {
  "kernelspec": {
   "display_name": "Python 3 (ipykernel)",
   "language": "python",
   "name": "python3"
  },
  "language_info": {
   "codemirror_mode": {
    "name": "ipython",
    "version": 3
   },
   "file_extension": ".py",
   "mimetype": "text/x-python",
   "name": "python",
   "nbconvert_exporter": "python",
   "pygments_lexer": "ipython3",
   "version": "3.9.7"
  }
 },
 "nbformat": 4,
 "nbformat_minor": 5
}
