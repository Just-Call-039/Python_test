{
 "cells": [
  {
   "cell_type": "code",
   "execution_count": 33,
   "id": "8bdb4693",
   "metadata": {},
   "outputs": [
    {
     "name": "stdout",
     "output_type": "stream",
     "text": [
      "Время обработки 411386 строк составило: 3.08 сек.\n"
     ]
    }
   ],
   "source": [
    "import time\n",
    "\n",
    "start_time = time.time()\n",
    "\n",
    "k = 0\n",
    "\n",
    "with open(\"Counted_data_to_csv_2.csv\", \"w\") as csv_file:\n",
    "    csv_file.write(\"Цепочка,Вероятность\\n\")\n",
    "    with open(\"Counted_data_to_csv.csv\") as file:\n",
    "        for now in file:\n",
    "            if \"Цепочка\" in now:\n",
    "                continue\n",
    "            else:\n",
    "                index = now.rfind(\",\")\n",
    "                first = \",\".join([i.strip().strip(\"''\") for i in now[:index].strip().strip(\"[]\").split(\",\")])\n",
    "                second = now[index:].strip().strip(\",\")\n",
    "                # print(first, \"and\", second)\n",
    "                csv_file.write(f\"{first},{second}\\n\")\n",
    "                k += 1\n",
    "                # if k == 50:\n",
    "                #    break\n",
    "\n",
    "print(f\"Время обработки {k} строк составило: {round(time.time() - start_time, 2)} сек.\")\n"
   ]
  },
  {
   "cell_type": "code",
   "execution_count": null,
   "id": "224ce924",
   "metadata": {},
   "outputs": [],
   "source": []
  }
 ],
 "metadata": {
  "kernelspec": {
   "display_name": "Python 3 (ipykernel)",
   "language": "python",
   "name": "python3"
  },
  "language_info": {
   "codemirror_mode": {
    "name": "ipython",
    "version": 3
   },
   "file_extension": ".py",
   "mimetype": "text/x-python",
   "name": "python",
   "nbconvert_exporter": "python",
   "pygments_lexer": "ipython3",
   "version": "3.9.7"
  }
 },
 "nbformat": 4,
 "nbformat_minor": 5
}
