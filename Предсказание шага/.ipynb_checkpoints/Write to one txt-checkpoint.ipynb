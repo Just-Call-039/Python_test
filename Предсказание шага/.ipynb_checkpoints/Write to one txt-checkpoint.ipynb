{
 "cells": [
  {
   "cell_type": "code",
   "execution_count": 2,
   "id": "a7de4fb2",
   "metadata": {},
   "outputs": [],
   "source": [
    "with open(\"Total_counted_data.txt\", \"a\") as total:\n",
    "    with open(\"counted_data_1.txt\") as file:\n",
    "        for now in file:\n",
    "            total.write(now)\n",
    "    with open(\"counted_data_2.txt\") as file:\n",
    "        for now in file:\n",
    "            total.write(now)\n"
   ]
  },
  {
   "cell_type": "code",
   "execution_count": null,
   "id": "6c328e7e",
   "metadata": {},
   "outputs": [],
   "source": []
  }
 ],
 "metadata": {
  "kernelspec": {
   "display_name": "Python 3 (ipykernel)",
   "language": "python",
   "name": "python3"
  },
  "language_info": {
   "codemirror_mode": {
    "name": "ipython",
    "version": 3
   },
   "file_extension": ".py",
   "mimetype": "text/x-python",
   "name": "python",
   "nbconvert_exporter": "python",
   "pygments_lexer": "ipython3",
   "version": "3.9.7"
  }
 },
 "nbformat": 4,
 "nbformat_minor": 5
}
